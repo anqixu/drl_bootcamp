{
 "cells": [
  {
   "cell_type": "markdown",
   "metadata": {},
   "source": [
    "# ChainerRL Quickstart Guide\n",
    "\n",
    "This is a quickstart guide for users who just want to try ChainerRL for the first time.\n",
    "\n",
    "If you have not yet installed ChainerRL, run the command below to install it:\n",
    "```\n",
    "pip install chainerrl\n",
    "```\n",
    "\n",
    "If you have already installed ChainerRL, let's begin!\n",
    "\n",
    "First, you need to import necessary modules. The module name of ChainerRL is `chainerrl`. Let's import `gym` and `numpy` as well since they are used later."
   ]
  },
  {
   "cell_type": "code",
   "execution_count": 1,
   "metadata": {
    "collapsed": true
   },
   "outputs": [],
   "source": [
    "import chainer\n",
    "import chainer.functions as F\n",
    "import chainer.links as L\n",
    "import chainerrl\n",
    "import gym\n",
    "import numpy as np"
   ]
  },
  {
   "cell_type": "markdown",
   "metadata": {},
   "source": [
    "ChainerRL can be used for any problems if they are modeled as \"environments\". [OpenAI Gym](https://github.com/openai/gym) provides various kinds of benchmark environments and defines the common interface among them. ChainerRL uses a subset of the interface. Specifically, an environment must define its observation space and action space and have at least two methods: `reset` and `step`.\n",
    "\n",
    "- `env.reset` will reset the environment to the initial state and return the initial observation.\n",
    "- `env.step` will execute a given action, move to the next state and return four values:\n",
    "  - a next observation\n",
    "  - a scalar reward\n",
    "  - a boolean value indicating whether the current state is terminal or not\n",
    "  - additional information\n",
    "- `env.render` will render the current state.\n",
    "\n",
    "Let's try 'CartPole-v0', which is a classic control problem. You can see below that its observation space consists of four real numbers while its action space consists of two discrete actions."
   ]
  },
  {
   "cell_type": "code",
   "execution_count": 2,
   "metadata": {},
   "outputs": [
    {
     "name": "stderr",
     "output_type": "stream",
     "text": [
      "[2017-08-25 22:49:43,019] Making new env: CartPole-v0\n"
     ]
    },
    {
     "name": "stdout",
     "output_type": "stream",
     "text": [
      "observation space: Box(4,)\n",
      "action space: Discrete(2)\n",
      "initial observation: [ 0.04773906  0.00952687  0.02524067  0.03243719]\n",
      "next observation: [ 0.0479296  -0.18594778  0.02588941  0.33297573]\n",
      "reward: 1.0\n",
      "done: False\n",
      "info: {}\n"
     ]
    }
   ],
   "source": [
    "env = gym.make('CartPole-v0')\n",
    "print('observation space:', env.observation_space)\n",
    "print('action space:', env.action_space)\n",
    "\n",
    "obs = env.reset()\n",
    "env.render()\n",
    "print('initial observation:', obs)\n",
    "\n",
    "action = env.action_space.sample()\n",
    "obs, r, done, info = env.step(action)\n",
    "print('next observation:', obs)\n",
    "print('reward:', r)\n",
    "print('done:', done)\n",
    "print('info:', info)"
   ]
  },
  {
   "cell_type": "markdown",
   "metadata": {},
   "source": [
    "Now you have defined your environment. Next, you need to define an agent, which will learn through interactions with the environment.\n",
    "\n",
    "ChainerRL provides various agents, each of which implements a deep reinforcement learning algorithm.\n",
    "\n",
    "To use [DQN (Deep Q-Network)](http://dx.doi.org/10.1038/nature14236), you need to define a Q-function that receives an observation and returns an expected future return for each action the agent can take. In ChainerRL, you can define your Q-function as `chainer.Link` as below. Note that the outputs are wrapped by `chainerrl.action_value.DiscreteActionValue`, which implements `chainerrl.action_value.ActionValue`. By wrapping the outputs of Q-functions, ChainerRL can treat discrete-action Q-functions like this and [NAFs (Normalized Advantage Functions)](https://arxiv.org/abs/1603.00748) in the same way."
   ]
  },
  {
   "cell_type": "code",
   "execution_count": 3,
   "metadata": {
    "collapsed": true
   },
   "outputs": [],
   "source": [
    "class QFunction(chainer.Chain):\n",
    "\n",
    "    def __init__(self, obs_size, n_actions, n_hidden_channels=50):\n",
    "        super().__init__(\n",
    "            l0=L.Linear(obs_size, n_hidden_channels),\n",
    "            l1=L.Linear(n_hidden_channels, n_hidden_channels),\n",
    "            l2=L.Linear(n_hidden_channels, n_actions))\n",
    "\n",
    "    def __call__(self, x, test=False):\n",
    "        \"\"\"\n",
    "        Args:\n",
    "            x (ndarray or chainer.Variable): An observation\n",
    "            test (bool): a flag indicating whether it is in test mode\n",
    "        \"\"\"\n",
    "        h = F.tanh(self.l0(x))\n",
    "        h = F.tanh(self.l1(h))\n",
    "        return chainerrl.action_value.DiscreteActionValue(self.l2(h))\n",
    "\n",
    "obs_size = env.observation_space.shape[0]\n",
    "n_actions = env.action_space.n\n",
    "q_func = QFunction(obs_size, n_actions)"
   ]
  },
  {
   "cell_type": "markdown",
   "metadata": {},
   "source": [
    "If you want to use CUDA for computation, as usual as in Chainer, call `to_gpu`."
   ]
  },
  {
   "cell_type": "code",
   "execution_count": 4,
   "metadata": {},
   "outputs": [
    {
     "data": {
      "text/plain": [
       "<__main__.QFunction at 0x7fb249cb2978>"
      ]
     },
     "execution_count": 4,
     "metadata": {},
     "output_type": "execute_result"
    }
   ],
   "source": [
    "# Uncomment to use CUDA\n",
    "q_func.to_gpu(0)"
   ]
  },
  {
   "cell_type": "markdown",
   "metadata": {},
   "source": [
    "You can also use ChainerRL's predefined Q-functions."
   ]
  },
  {
   "cell_type": "code",
   "execution_count": 5,
   "metadata": {
    "collapsed": true
   },
   "outputs": [],
   "source": [
    "_q_func = chainerrl.q_functions.FCStateQFunctionWithDiscreteAction(\n",
    "    obs_size, n_actions,\n",
    "    n_hidden_layers=2, n_hidden_channels=50)"
   ]
  },
  {
   "cell_type": "markdown",
   "metadata": {},
   "source": [
    "As in Chainer, `chainer.Optimizer` is used to update models."
   ]
  },
  {
   "cell_type": "code",
   "execution_count": 6,
   "metadata": {
    "collapsed": true
   },
   "outputs": [],
   "source": [
    "# Use Adam to optimize q_func. eps=1e-2 is for stability.\n",
    "optimizer = chainer.optimizers.Adam(eps=1e-2)\n",
    "optimizer.setup(q_func)"
   ]
  },
  {
   "cell_type": "markdown",
   "metadata": {},
   "source": [
    "A Q-function and its optimizer are used by a DQN agent. To create a DQN agent, you need to specify a bit more parameters and configurations."
   ]
  },
  {
   "cell_type": "code",
   "execution_count": 7,
   "metadata": {
    "collapsed": true
   },
   "outputs": [],
   "source": [
    "# Set the discount factor that discounts future rewards.\n",
    "gamma = 0.95\n",
    "\n",
    "# Use epsilon-greedy for exploration\n",
    "explorer = chainerrl.explorers.ConstantEpsilonGreedy(\n",
    "    epsilon=0.3, random_action_func=env.action_space.sample)\n",
    "\n",
    "# DQN uses Experience Replay.\n",
    "# Specify a replay buffer and its capacity.\n",
    "replay_buffer = chainerrl.replay_buffer.ReplayBuffer(capacity=10 ** 6)\n",
    "\n",
    "# Since observations from CartPole-v0 is numpy.float64 while\n",
    "# Chainer only accepts numpy.float32 by default, specify\n",
    "# a converter as a feature extractor function phi.\n",
    "phi = lambda x: x.astype(np.float32, copy=False)\n",
    "\n",
    "# Now create an agent that will interact with the environment.\n",
    "agent = chainerrl.agents.DoubleDQN(\n",
    "    q_func, optimizer, replay_buffer, gamma, explorer,\n",
    "    replay_start_size=500, update_interval=1,\n",
    "    target_update_interval=100, phi=phi)"
   ]
  },
  {
   "cell_type": "markdown",
   "metadata": {},
   "source": [
    "Now you have an agent and an environment. It's time to start reinforcement learning!\n",
    "\n",
    "In training, use `agent.act_and_train` to select exploratory actions. `agent.stop_episode_and_train` must be called after finishing an episode. You can get training statistics of the agent via `agent.get_statistics`."
   ]
  },
  {
   "cell_type": "code",
   "execution_count": 9,
   "metadata": {
    "scrolled": true
   },
   "outputs": [
    {
     "name": "stdout",
     "output_type": "stream",
     "text": [
      "episode: 10 R: 85.0 statistics: [('average_q', 14.819114254755819), ('average_loss', 0.35169355408390174)]\n",
      "episode: 20 R: 191.0 statistics: [('average_q', 17.26049075603663), ('average_loss', 0.3106854055483996)]\n",
      "episode: 30 R: 181.0 statistics: [('average_q', 18.780099712163764), ('average_loss', 0.2550692248940188)]\n",
      "episode: 40 R: 122.0 statistics: [('average_q', 19.602174215173296), ('average_loss', 0.20864154932243814)]\n",
      "episode: 50 R: 146.0 statistics: [('average_q', 19.314054870353154), ('average_loss', 0.2022666283635841)]\n",
      "episode: 60 R: 125.0 statistics: [('average_q', 19.284706240144406), ('average_loss', 0.20756531470113468)]\n",
      "episode: 70 R: 173.0 statistics: [('average_q', 19.341517000090217), ('average_loss', 0.19855614561730608)]\n",
      "episode: 80 R: 176.0 statistics: [('average_q', 19.49898025585528), ('average_loss', 0.1691645145218128)]\n",
      "episode: 90 R: 169.0 statistics: [('average_q', 19.5934845169369), ('average_loss', 0.13637776029901527)]\n",
      "episode: 100 R: 200.0 statistics: [('average_q', 19.924783415611458), ('average_loss', 0.13065454904699492)]\n",
      "episode: 110 R: 152.0 statistics: [('average_q', 19.93553807812678), ('average_loss', 0.1023589898113175)]\n",
      "episode: 120 R: 170.0 statistics: [('average_q', 19.865730200720865), ('average_loss', 0.12720688106987746)]\n",
      "episode: 130 R: 46.0 statistics: [('average_q', 19.991405534072072), ('average_loss', 0.0968885194890027)]\n",
      "episode: 140 R: 190.0 statistics: [('average_q', 20.13125174287303), ('average_loss', 0.11068759423357945)]\n",
      "episode: 150 R: 200.0 statistics: [('average_q', 20.28961414646134), ('average_loss', 0.08441975086485975)]\n",
      "episode: 160 R: 200.0 statistics: [('average_q', 20.202962503043256), ('average_loss', 0.10269160579509572)]\n",
      "episode: 170 R: 52.0 statistics: [('average_q', 20.209772767722654), ('average_loss', 0.11455841766239536)]\n",
      "episode: 180 R: 101.0 statistics: [('average_q', 20.373825247648252), ('average_loss', 0.11194118800803407)]\n",
      "episode: 190 R: 110.0 statistics: [('average_q', 20.364720969042963), ('average_loss', 0.11330147114750592)]\n",
      "episode: 200 R: 131.0 statistics: [('average_q', 20.13485993204971), ('average_loss', 0.12053711022096451)]\n",
      "Finished.\n"
     ]
    }
   ],
   "source": [
    "n_episodes = 200\n",
    "max_episode_len = 200\n",
    "for i in range(1, n_episodes + 1):\n",
    "    obs = env.reset()\n",
    "    reward = 0\n",
    "    done = False\n",
    "    R = 0  # return (sum of rewards)\n",
    "    t = 0  # time step\n",
    "    while not done and t < max_episode_len:\n",
    "        # Uncomment to watch the behaviour\n",
    "        env.render() # NOTE: takes 2-3x longer than headless mode\n",
    "        action = agent.act_and_train(obs, reward)\n",
    "        obs, reward, done, _ = env.step(action)\n",
    "        R += reward\n",
    "        t += 1\n",
    "    if i % 10 == 0:\n",
    "        print('episode:', i,\n",
    "              'R:', R,\n",
    "              'statistics:', agent.get_statistics())\n",
    "    agent.stop_episode_and_train(obs, reward, done)\n",
    "print('Finished.')"
   ]
  },
  {
   "cell_type": "markdown",
   "metadata": {},
   "source": [
    "Now you finished training the agent. How good is the agent now? You can test it by using `agent.act` and `agent.stop_episode` instead. Exploration such as epsilon-greedy is not used anymore."
   ]
  },
  {
   "cell_type": "code",
   "execution_count": 10,
   "metadata": {},
   "outputs": [
    {
     "name": "stdout",
     "output_type": "stream",
     "text": [
      "test episode: 0 R: 200.0\n",
      "test episode: 1 R: 200.0\n",
      "test episode: 2 R: 195.0\n",
      "test episode: 3 R: 200.0\n",
      "test episode: 4 R: 200.0\n",
      "test episode: 5 R: 192.0\n",
      "test episode: 6 R: 200.0\n",
      "test episode: 7 R: 200.0\n",
      "test episode: 8 R: 190.0\n",
      "test episode: 9 R: 172.0\n"
     ]
    }
   ],
   "source": [
    "for i in range(10):\n",
    "    obs = env.reset()\n",
    "    done = False\n",
    "    R = 0\n",
    "    t = 0\n",
    "    while not done and t < 200:\n",
    "        env.render()\n",
    "        action = agent.act(obs)\n",
    "        obs, r, done, _ = env.step(action)\n",
    "        R += r\n",
    "        t += 1\n",
    "    print('test episode:', i, 'R:', R)\n",
    "    agent.stop_episode()"
   ]
  },
  {
   "cell_type": "markdown",
   "metadata": {},
   "source": [
    "If test scores are good enough, the only remaining task is to save the agent so that you can reuse it. What you need to do is to simply call `agent.save` to save the agent, then `agent.load` to load the saved agent."
   ]
  },
  {
   "cell_type": "code",
   "execution_count": 11,
   "metadata": {
    "collapsed": true
   },
   "outputs": [],
   "source": [
    "# Save an agent to the 'agent' directory\n",
    "agent.save('agent')\n",
    "\n",
    "# Uncomment to load an agent from the 'agent' directory\n",
    "agent.load('agent')"
   ]
  },
  {
   "cell_type": "markdown",
   "metadata": {},
   "source": [
    "RL completed!\n",
    "\n",
    "But writing code like this every time you use RL might be boring. So, ChainerRL has utility functions that do these things."
   ]
  },
  {
   "cell_type": "code",
   "execution_count": 14,
   "metadata": {},
   "outputs": [
    {
     "name": "stdout",
     "output_type": "stream",
     "text": [
      "outdir:result step:200 episode:0 R:200.0\n",
      "statistics:[('average_q', 20.131927080340095), ('average_loss', 0.12029086471129218)]\n",
      "outdir:result step:346 episode:1 R:146.0\n",
      "statistics:[('average_q', 19.873802899549368), ('average_loss', 0.10578569687639011)]\n",
      "outdir:result step:511 episode:2 R:165.0\n",
      "statistics:[('average_q', 19.893137546222878), ('average_loss', 0.10418930239943903)]\n",
      "outdir:result step:564 episode:3 R:53.0\n",
      "statistics:[('average_q', 19.91813001741948), ('average_loss', 0.11097642805857315)]\n",
      "outdir:result step:594 episode:4 R:30.0\n",
      "statistics:[('average_q', 19.921498387440224), ('average_loss', 0.12284922934044462)]\n",
      "outdir:result step:641 episode:5 R:47.0\n",
      "statistics:[('average_q', 19.923888388987752), ('average_loss', 0.11144214087175114)]\n",
      "outdir:result step:738 episode:6 R:97.0\n",
      "statistics:[('average_q', 19.96995649917689), ('average_loss', 0.12128712572476841)]\n",
      "outdir:result step:899 episode:7 R:161.0\n",
      "statistics:[('average_q', 20.015333026487614), ('average_loss', 0.1035471137861769)]\n",
      "outdir:result step:1099 episode:8 R:200.0\n",
      "statistics:[('average_q', 20.05940906007593), ('average_loss', 0.09923561194181561)]\n",
      "test episode: 0 R: 141.0\n",
      "test episode: 1 R: 136.0\n",
      "test episode: 2 R: 151.0\n",
      "test episode: 3 R: 144.0\n",
      "test episode: 4 R: 137.0\n",
      "test episode: 5 R: 133.0\n",
      "test episode: 6 R: 155.0\n",
      "test episode: 7 R: 154.0\n",
      "test episode: 8 R: 148.0\n",
      "test episode: 9 R: 146.0\n",
      "The best score is updated -3.40282e+38 -> 144.5\n",
      "Saved the agent to result/1099\n",
      "outdir:result step:1258 episode:9 R:159.0\n",
      "statistics:[('average_q', 20.10519966865457), ('average_loss', 0.13668960295615482)]\n",
      "outdir:result step:1403 episode:10 R:145.0\n",
      "statistics:[('average_q', 20.093438143606743), ('average_loss', 0.11169334467797863)]\n",
      "outdir:result step:1592 episode:11 R:189.0\n",
      "statistics:[('average_q', 20.103853411614), ('average_loss', 0.1105947109391477)]\n",
      "outdir:result step:1608 episode:12 R:16.0\n",
      "statistics:[('average_q', 20.099290225245717), ('average_loss', 0.09756288597367967)]\n",
      "outdir:result step:1643 episode:13 R:35.0\n",
      "statistics:[('average_q', 20.11078304514914), ('average_loss', 0.09269191750362038)]\n",
      "outdir:result step:1677 episode:14 R:34.0\n",
      "statistics:[('average_q', 20.117825439761717), ('average_loss', 0.10592170675105785)]\n",
      "outdir:result step:1696 episode:15 R:19.0\n",
      "statistics:[('average_q', 20.11272983038412), ('average_loss', 0.1148590399103112)]\n",
      "outdir:result step:1817 episode:16 R:121.0\n",
      "statistics:[('average_q', 19.84343269546884), ('average_loss', 0.09444232372723625)]\n",
      "outdir:result step:1832 episode:17 R:15.0\n",
      "statistics:[('average_q', 19.842025643038067), ('average_loss', 0.09224938329515978)]\n",
      "outdir:result step:1850 episode:18 R:18.0\n",
      "statistics:[('average_q', 19.83110775883058), ('average_loss', 0.0987621171587577)]\n",
      "outdir:result step:1980 episode:19 R:130.0\n",
      "statistics:[('average_q', 19.866908045045736), ('average_loss', 0.11045773404761554)]\n",
      "outdir:result step:2000 episode:20 R:20.0\n",
      "statistics:[('average_q', 19.875254455696542), ('average_loss', 0.10457835787990864)]\n",
      "test episode: 0 R: 152.0\n",
      "test episode: 1 R: 150.0\n",
      "test episode: 2 R: 140.0\n",
      "test episode: 3 R: 145.0\n",
      "test episode: 4 R: 145.0\n",
      "test episode: 5 R: 150.0\n",
      "test episode: 6 R: 142.0\n",
      "test episode: 7 R: 144.0\n",
      "test episode: 8 R: 164.0\n",
      "test episode: 9 R: 132.0\n",
      "The best score is updated 144.5 -> 146.4\n",
      "Saved the agent to result/2000\n",
      "Saved the agent to result/2000_finish\n"
     ]
    }
   ],
   "source": [
    "# Set up the logger to print info messages for understandability.\n",
    "import logging\n",
    "import sys\n",
    "gym.undo_logger_setup()  # Turn off gym's default logger settings\n",
    "logging.basicConfig(level=logging.INFO, stream=sys.stdout, format='')\n",
    "\n",
    "chainerrl.experiments.train_agent_with_evaluation(\n",
    "    agent, env,\n",
    "    steps=2000,           # Train the agent for 2000 steps\n",
    "    eval_n_runs=10,       # 10 episodes are sampled for each evaluation\n",
    "    max_episode_len=200,  # Maximum length of each episodes\n",
    "    eval_interval=1000,   # Evaluate the agent after every 1000 steps\n",
    "    outdir='result')      # Save everything to 'result' directory"
   ]
  },
  {
   "cell_type": "markdown",
   "metadata": {},
   "source": [
    "That's all of the ChainerRL quickstart guide. To know more about ChainerRL, please look into the `examples` directory and read and run the examples. Thank you!"
   ]
  }
 ],
 "metadata": {
  "kernelspec": {
   "display_name": "Python 3",
   "language": "python",
   "name": "python3"
  },
  "language_info": {
   "codemirror_mode": {
    "name": "ipython",
    "version": 3
   },
   "file_extension": ".py",
   "mimetype": "text/x-python",
   "name": "python",
   "nbconvert_exporter": "python",
   "pygments_lexer": "ipython3",
   "version": "3.5.3"
  }
 },
 "nbformat": 4,
 "nbformat_minor": 1
}
